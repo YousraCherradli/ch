{
 "cells": [
  {
   "cell_type": "code",
   "execution_count": 2,
   "id": "4394c089",
   "metadata": {},
   "outputs": [
    {
     "name": "stdout",
     "output_type": "stream",
     "text": [
      "F\n"
     ]
    }
   ],
   "source": [
    "def flames_game(name1, name2):\n",
    "   \n",
    "    name1 = name1.replace(\" \", \"\").lower()\n",
    "    name2 = name2.replace(\" \", \"\").lower()\n",
    "\n",
    "  \n",
    "    for char in name1:\n",
    "        if char in name2:\n",
    "            name2 = name2.replace(char, \"\", 1)\n",
    "            name1 = name1.replace(char, \"\", 1)\n",
    "\n",
    "   \n",
    "    count = len(name1 + name2)\n",
    "\n",
    "   \n",
    "    flames = [\"F\", \"L\", \"A\", \"M\", \"E\", \"S\"]\n",
    "\n",
    "    \n",
    "    while len(flames) > 1:\n",
    "        split_index = (count % len(flames)) - 1\n",
    "\n",
    "        if split_index >= 0:\n",
    "            right = flames[split_index + 1:]\n",
    "            left = flames[:split_index]\n",
    "            flames = right + left\n",
    "        else:\n",
    "            flames = flames[:len(flames) - 1]\n",
    "\n",
    "    # return the result\n",
    "    return flames[0]\n",
    "\n",
    "# test the game\n",
    "print(flames_game(\"AJAY\", \"PRIYA\"))\n"
   ]
  },
  {
   "cell_type": "code",
   "execution_count": 3,
   "id": "7f38f699",
   "metadata": {},
   "outputs": [
    {
     "name": "stdout",
     "output_type": "stream",
     "text": [
      "Enemies\n",
      "Friends\n"
     ]
    }
   ],
   "source": [
    "def flames(name1, name2):\n",
    "    name1_list = list(name1.replace(\" \", \"\"))\n",
    "    name2_list = list(name2.replace(\" \", \"\"))\n",
    "    result_list = [\"Friends\", \"Lovers\", \"Affectionate\", \"Marriage\", \"Enemies\", \"Siblings\"]\n",
    "    common = [i for i in name1_list if i in name2_list]\n",
    "    for i in common:\n",
    "        name1_list.remove(i)\n",
    "        name2_list.remove(i)\n",
    "    count = len(name1_list) + len(name2_list)\n",
    "    while len(result_list) > 1:\n",
    "        split_index = (count % len(result_list)) - 1\n",
    "        if split_index >= 0:\n",
    "            right = result_list[split_index + 1:]\n",
    "            left = result_list[:split_index]\n",
    "            result_list = right + left\n",
    "        else:\n",
    "            result_list = result_list[:len(result_list) - 1]\n",
    "    return result_list[0]\n",
    "\n",
    "# test the code with some names\n",
    "print(flames(\"John\", \"Jane\"))\n",
    "print(flames(\"Mike\", \"Megan\"))\n"
   ]
  },
  {
   "cell_type": "code",
   "execution_count": null,
   "id": "40729c2a",
   "metadata": {},
   "outputs": [],
   "source": []
  }
 ],
 "metadata": {
  "kernelspec": {
   "display_name": "Python 3 (ipykernel)",
   "language": "python",
   "name": "python3"
  },
  "language_info": {
   "codemirror_mode": {
    "name": "ipython",
    "version": 3
   },
   "file_extension": ".py",
   "mimetype": "text/x-python",
   "name": "python",
   "nbconvert_exporter": "python",
   "pygments_lexer": "ipython3",
   "version": "3.9.13"
  }
 },
 "nbformat": 4,
 "nbformat_minor": 5
}
